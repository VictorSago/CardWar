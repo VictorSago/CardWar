{
 "cells": [
  {
   "cell_type": "code",
   "execution_count": 9,
   "id": "31d39dfa",
   "metadata": {},
   "outputs": [],
   "source": [
    "import random\n",
    "\n",
    "suits = ('Clubs', 'Hearts', 'Spades', 'Diamonds')\n",
    "values = {\n",
    "    'Two':2, \n",
    "    'Three':3, \n",
    "    'Four':4, \n",
    "    'Five':5, \n",
    "    'Six':6, \n",
    "    'Seven':7, \n",
    "    'Eight':8, \n",
    "    'Nine':9, \n",
    "    'Ten':10, \n",
    "    'Jack':11, \n",
    "    'Queen':12, \n",
    "    'King':13, \n",
    "    'Ace':14\n",
    "}\n",
    "ranks = tuple(values.keys())"
   ]
  },
  {
   "cell_type": "code",
   "execution_count": 10,
   "id": "0889d3c5",
   "metadata": {},
   "outputs": [
    {
     "data": {
      "text/plain": "('Clubs', 'Hearts', 'Spades', 'Diamonds')"
     },
     "execution_count": 10,
     "metadata": {},
     "output_type": "execute_result"
    }
   ],
   "source": [
    "suits"
   ]
  },
  {
   "cell_type": "code",
   "execution_count": 11,
   "id": "a02d846f",
   "metadata": {},
   "outputs": [
    {
     "data": {
      "text/plain": "{'Two': 2,\n 'Three': 3,\n 'Four': 4,\n 'Five': 5,\n 'Six': 6,\n 'Seven': 7,\n 'Eight': 8,\n 'Nine': 9,\n 'Ten': 10,\n 'Jack': 11,\n 'Queen': 12,\n 'King': 13,\n 'Ace': 14}"
     },
     "execution_count": 11,
     "metadata": {},
     "output_type": "execute_result"
    }
   ],
   "source": [
    "values"
   ]
  },
  {
   "cell_type": "code",
   "execution_count": 12,
   "id": "2cf9d7b7",
   "metadata": {},
   "outputs": [
    {
     "data": {
      "text/plain": "('Two',\n 'Three',\n 'Four',\n 'Five',\n 'Six',\n 'Seven',\n 'Eight',\n 'Nine',\n 'Ten',\n 'Jack',\n 'Queen',\n 'King',\n 'Ace')"
     },
     "execution_count": 12,
     "metadata": {},
     "output_type": "execute_result"
    }
   ],
   "source": [
    "ranks"
   ]
  },
  {
   "cell_type": "code",
   "execution_count": 13,
   "id": "c50693a3",
   "metadata": {},
   "outputs": [
    {
     "data": {
      "text/plain": "'Five'"
     },
     "execution_count": 13,
     "metadata": {},
     "output_type": "execute_result"
    }
   ],
   "source": [
    "ranks[3]"
   ]
  },
  {
   "cell_type": "code",
   "id": "88437238",
   "metadata": {
    "pycharm": {
     "name": "#%%\n"
    }
   },
   "source": [
    "class Card:\n",
    "    \n",
    "    def __init__(self, suit, rank):\n",
    "        self.suit = suit\n",
    "        self.rank = rank\n",
    "        self.value = values[rank]\n",
    "    \n",
    "    def __str__(self):\n",
    "        return self.rank + \" of \" + self.suit\n",
    "    \n",
    "    def __repr__(self):\n",
    "        return f\"Card({self.suit}, {self.rank})\"\n",
    "    \n",
    "    def __eq__(self, other):\n",
    "        return self.value == other.value\n",
    "    \n",
    "    def __ne__(self, other):\n",
    "        return self.value != other.value\n",
    "    \n",
    "    def __lt__(self, other):\n",
    "        return self.value < other.value\n",
    "    \n",
    "    def __le__(self, other):\n",
    "        return self.value <= other.value\n",
    "    \n",
    "    def __gt__(self, other):\n",
    "        return self.value > other.value\n",
    "    \n",
    "    def __ge__(self, other):\n",
    "        return self.value >= other.value\n"
   ],
   "execution_count": null,
   "outputs": []
  },
  {
   "cell_type": "markdown",
   "source": [
    "Let's test the card creation and comparisons, along with printing out of a list of cards."
   ],
   "metadata": {
    "collapsed": false,
    "pycharm": {
     "name": "#%% md\n"
    }
   }
  },
  {
   "cell_type": "code",
   "execution_count": 15,
   "id": "59efe954",
   "metadata": {},
   "outputs": [
    {
     "name": "stdout",
     "output_type": "stream",
     "text": [
      "True False True\n",
      "[Card(Hearts, Two), Card(Spades, Queen)]\n",
      "False True True False True\n"
     ]
    }
   ],
   "source": [
    "two_hearts = Card(\"Hearts\", \"Two\")\n",
    "queen_spades = Card(\"Spades\", \"Queen\")\n",
    "\n",
    "print(two_hearts <= queen_spades, two_hearts == queen_spades, two_hearts != queen_spades)\n",
    "print([two_hearts, queen_spades])\n",
    "\n",
    "three_clubs = Card(\"Clubs\", \"Three\")\n",
    "three_diamonds = Card(\"Diamonds\", \"Three\")\n",
    "\n",
    "print(two_hearts >= three_clubs, two_hearts <= three_diamonds, three_clubs == three_diamonds, three_clubs != three_diamonds, three_clubs == three_clubs)"
   ]
  },
  {
   "cell_type": "code",
   "execution_count": 75,
   "id": "320e7d05",
   "metadata": {},
   "outputs": [],
   "source": [
    "class Deck:\n",
    "    \n",
    "    def __init__(self):\n",
    "        self.all_cards = []\n",
    "        for suit in suits:\n",
    "            for rank in ranks:\n",
    "                self.all_cards.append(Card(suit, rank))\n",
    "    \n",
    "    def shuffle(self):\n",
    "        random.shuffle(self.all_cards)\n",
    "    \n",
    "    def deal_one(self):\n",
    "        if len(self.all_cards) > 0:\n",
    "            return self.all_cards.pop()\n",
    "        else:\n",
    "            return None\n",
    "    \n",
    "    def __len__(self):\n",
    "        return len(self.all_cards)\n",
    "\n",
    "    def __str__(self):\n",
    "        the_head = f\"Deck with {len(self.all_cards)} cards: \"\n",
    "        all_strings = [str(cc) for cc in self.all_cards]\n",
    "        the_tail = \", \".join(all_strings)\n",
    "        return the_head + the_tail\n"
   ]
  },
  {
   "cell_type": "code",
   "execution_count": 76,
   "id": "7db72ad3",
   "metadata": {},
   "outputs": [
    {
     "name": "stdout",
     "output_type": "stream",
     "text": [
      "Two of Clubs, Three of Clubs, Four of Clubs, Five of Clubs, Six of Clubs, Seven of Clubs, Eight of Clubs, Nine of Clubs, Ten of Clubs, Jack of Clubs, Queen of Clubs, King of Clubs, Ace of Clubs, Two of Hearts, Three of Hearts, Four of Hearts, Five of Hearts, Six of Hearts, Seven of Hearts, Eight of Hearts, Nine of Hearts, Ten of Hearts, Jack of Hearts, Queen of Hearts, King of Hearts, Ace of Hearts, Two of Spades, Three of Spades, Four of Spades, Five of Spades, Six of Spades, Seven of Spades, Eight of Spades, Nine of Spades, Ten of Spades, Jack of Spades, Queen of Spades, King of Spades, Ace of Spades, Two of Diamonds, Three of Diamonds, Four of Diamonds, Five of Diamonds, Six of Diamonds, Seven of Diamonds, Eight of Diamonds, Nine of Diamonds, Ten of Diamonds, Jack of Diamonds, Queen of Diamonds, King of Diamonds, Ace of Diamonds, "
     ]
    }
   ],
   "source": [
    "# Test deck creation and print all the cards in the deck.\n",
    "new_deck = Deck()\n",
    "for card in new_deck.all_cards:\n",
    "    print(card, end=\", \")"
   ]
  },
  {
   "cell_type": "code",
   "execution_count": 77,
   "id": "5c41e38e",
   "metadata": {},
   "outputs": [
    {
     "name": "stdout",
     "output_type": "stream",
     "text": [
      "Nine of Clubs;Three of Clubs;Six of Clubs;Jack of Spades;Ten of Clubs;Jack of Diamonds;Nine of Hearts;King of Diamonds;Five of Spades;Eight of Diamonds;Nine of Spades;Four of Hearts;Two of Diamonds;Six of Diamonds;Four of Clubs;King of Spades;Seven of Spades;Queen of Hearts;Ace of Spades;Six of Hearts;Two of Hearts;Nine of Diamonds;Jack of Clubs;King of Clubs;Eight of Hearts;Three of Spades;Ace of Clubs;Five of Hearts;Seven of Diamonds;Queen of Spades;Seven of Hearts;Ace of Diamonds;Five of Clubs;Seven of Clubs;Ace of Hearts;Eight of Spades;Jack of Hearts;Six of Spades;Three of Diamonds;Queen of Clubs;Five of Diamonds;Four of Diamonds;Eight of Clubs;Ten of Hearts;Three of Hearts;Queen of Diamonds;Ten of Spades;Two of Spades;Two of Clubs;Four of Spades;King of Hearts;Ten of Diamonds;"
     ]
    }
   ],
   "source": [
    "new_deck.shuffle()\n",
    "for card in new_deck.all_cards:\n",
    "    print(card, end=\";\")"
   ]
  },
  {
   "cell_type": "code",
   "execution_count": 78,
   "outputs": [
    {
     "name": "stdout",
     "output_type": "stream",
     "text": [
      "Deck with 52 cards: Nine of Clubs, Three of Clubs, Six of Clubs, Jack of Spades, Ten of Clubs, Jack of Diamonds, Nine of Hearts, King of Diamonds, Five of Spades, Eight of Diamonds, Nine of Spades, Four of Hearts, Two of Diamonds, Six of Diamonds, Four of Clubs, King of Spades, Seven of Spades, Queen of Hearts, Ace of Spades, Six of Hearts, Two of Hearts, Nine of Diamonds, Jack of Clubs, King of Clubs, Eight of Hearts, Three of Spades, Ace of Clubs, Five of Hearts, Seven of Diamonds, Queen of Spades, Seven of Hearts, Ace of Diamonds, Five of Clubs, Seven of Clubs, Ace of Hearts, Eight of Spades, Jack of Hearts, Six of Spades, Three of Diamonds, Queen of Clubs, Five of Diamonds, Four of Diamonds, Eight of Clubs, Ten of Hearts, Three of Hearts, Queen of Diamonds, Ten of Spades, Two of Spades, Two of Clubs, Four of Spades, King of Hearts, Ten of Diamonds\n"
     ]
    }
   ],
   "source": [
    "# Test printing the whole deck\n",
    "print(new_deck)"
   ],
   "metadata": {
    "collapsed": false,
    "pycharm": {
     "name": "#%%\n"
    }
   }
  },
  {
   "cell_type": "code",
   "execution_count": 79,
   "id": "1e4aed8b",
   "metadata": {},
   "outputs": [
    {
     "data": {
      "text/plain": "52"
     },
     "execution_count": 79,
     "metadata": {},
     "output_type": "execute_result"
    }
   ],
   "source": [
    "len(new_deck)"
   ]
  },
  {
   "cell_type": "code",
   "execution_count": 80,
   "id": "c6973ea6",
   "metadata": {},
   "outputs": [
    {
     "name": "stdout",
     "output_type": "stream",
     "text": [
      "Ten of Diamonds\n"
     ]
    },
    {
     "data": {
      "text/plain": "51"
     },
     "execution_count": 80,
     "metadata": {},
     "output_type": "execute_result"
    }
   ],
   "source": [
    "card1 = new_deck.deal_one()\n",
    "print(card1)\n",
    "len(new_deck)"
   ]
  },
  {
   "cell_type": "code",
   "execution_count": 64,
   "id": "157c8c41",
   "metadata": {},
   "outputs": [],
   "source": [
    "class Player:\n",
    "    \n",
    "    def __init__(self, name):\n",
    "        self.name = name\n",
    "        self.card_hand = []\n",
    "    \n",
    "    def play_card(self):\n",
    "        return self.card_hand.pop(0)\n",
    "    \n",
    "    def add_cards(self, *new_cards):\n",
    "        \"\"\"\n",
    "        Add new cards to the player's hand\n",
    "        new_cards can either be a single Card object\n",
    "        or a list of Card objects\n",
    "        \"\"\"\n",
    "        for cards in new_cards:\n",
    "            if type(cards) == type([]):\n",
    "                self.card_hand.extend(cards)\n",
    "            else:\n",
    "                self.card_hand.append(cards)\n",
    "    \n",
    "    def cards_left(self):\n",
    "        return len(self.card_hand)\n",
    "    \n",
    "    def __str__(self):\n",
    "        return f\"Player {self.name} has {len(self.card_hand)} cards.\"\n"
   ]
  },
  {
   "cell_type": "code",
   "execution_count": 65,
   "id": "7d2ec1a3",
   "metadata": {},
   "outputs": [
    {
     "name": "stdout",
     "output_type": "stream",
     "text": [
      "Player Vic has 0 cards.\n"
     ]
    }
   ],
   "source": [
    "new_player = Player(\"Vic\")\n",
    "print(new_player)"
   ]
  },
  {
   "cell_type": "code",
   "execution_count": 66,
   "id": "0ccaa9e4",
   "metadata": {},
   "outputs": [
    {
     "name": "stdout",
     "output_type": "stream",
     "text": [
      "Player Vic has 1 cards.\n"
     ]
    }
   ],
   "source": [
    "new_player.add_cards(two_hearts)\n",
    "print(new_player)\n",
    "#dir()"
   ]
  },
  {
   "cell_type": "code",
   "execution_count": 67,
   "id": "ce128c36",
   "metadata": {},
   "outputs": [
    {
     "name": "stdout",
     "output_type": "stream",
     "text": [
      "Player Vic has 4 cards.\n",
      "Two of Hearts\n",
      "Queen of Spades\n",
      "Three of Clubs\n",
      "Three of Diamonds\n"
     ]
    }
   ],
   "source": [
    "new_player.add_cards([queen_spades, three_clubs, three_diamonds])\n",
    "print(new_player)\n",
    "\n",
    "for c in new_player.card_hand:\n",
    "    print(c)"
   ]
  },
  {
   "cell_type": "code",
   "execution_count": 68,
   "id": "3dcb6ecc",
   "metadata": {},
   "outputs": [
    {
     "name": "stdout",
     "output_type": "stream",
     "text": [
      "Two of Hearts\n",
      "Player Vic has 3 cards.\n",
      "Queen of Spades\n",
      "Three of Clubs\n",
      "Three of Diamonds\n"
     ]
    }
   ],
   "source": [
    "print(new_player.play_card())\n",
    "print(new_player)\n",
    "for c in new_player.card_hand:\n",
    "    print(c)"
   ]
  },
  {
   "cell_type": "code",
   "execution_count": 69,
   "id": "f25df342",
   "metadata": {},
   "outputs": [
    {
     "name": "stdout",
     "output_type": "stream",
     "text": [
      "Player Vic has 5 cards.\n",
      "Queen of Spades\n",
      "Three of Clubs\n",
      "Three of Diamonds\n",
      "Two of Hearts\n",
      "Queen of Spades\n"
     ]
    }
   ],
   "source": [
    "new_player.add_cards(two_hearts, queen_spades)\n",
    "print(new_player)\n",
    "for c in new_player.card_hand:\n",
    "    print(c)"
   ]
  },
  {
   "cell_type": "code",
   "execution_count": 70,
   "id": "55645a34",
   "metadata": {},
   "outputs": [
    {
     "name": "stdout",
     "output_type": "stream",
     "text": [
      "Player Vic has 9 cards.\n",
      "Queen of Spades\n",
      "Three of Clubs\n",
      "Three of Diamonds\n",
      "Two of Hearts\n",
      "Queen of Spades\n",
      "Three of Clubs\n",
      "Three of Diamonds\n",
      "Queen of Spades\n",
      "Two of Hearts\n"
     ]
    }
   ],
   "source": [
    "new_player.add_cards([three_clubs, three_diamonds, queen_spades], two_hearts)\n",
    "print(new_player)\n",
    "for c in new_player.card_hand:\n",
    "    print(c)"
   ]
  },
  {
   "cell_type": "code",
   "execution_count": 71,
   "id": "a20dc8ec",
   "metadata": {},
   "outputs": [
    {
     "name": "stdout",
     "output_type": "stream",
     "text": [
      "Player Vic has 15 cards.\n",
      "Queen of Spades\n",
      "Three of Clubs\n",
      "Three of Diamonds\n",
      "Two of Hearts\n",
      "Queen of Spades\n",
      "Three of Clubs\n",
      "Three of Diamonds\n",
      "Queen of Spades\n",
      "Two of Hearts\n",
      "Three of Diamonds\n",
      "Three of Clubs\n",
      "Three of Diamonds\n",
      "Queen of Spades\n",
      "Two of Hearts\n",
      "Queen of Spades\n"
     ]
    }
   ],
   "source": [
    "new_player.add_cards(three_diamonds, [three_clubs, three_diamonds, queen_spades], two_hearts, queen_spades)\n",
    "print(new_player)\n",
    "for c in new_player.card_hand:\n",
    "    print(c)"
   ]
  },
  {
   "cell_type": "code",
   "execution_count": 72,
   "id": "7db6ba13",
   "metadata": {},
   "outputs": [
    {
     "name": "stdout",
     "output_type": "stream",
     "text": [
      "Player One:  26\n",
      "Player Two:  26\n"
     ]
    }
   ],
   "source": [
    "# Game setup\n",
    "player_one = Player(\"One\")\n",
    "player_two = Player(\"Two\")\n",
    "\n",
    "game_deck = Deck()\n",
    "game_deck.shuffle()\n",
    "\n",
    "for card in range(int(len(game_deck)/2)):\n",
    "    player_one.add_cards(game_deck.deal_one())\n",
    "    player_two.add_cards(game_deck.deal_one())\n",
    "\n",
    "print(\"Player One: \", len(player_one.card_hand))\n",
    "print(\"Player Two: \", len(player_two.card_hand))"
   ]
  },
  {
   "cell_type": "code",
   "execution_count": 73,
   "id": "6c293afa",
   "metadata": {},
   "outputs": [
    {
     "name": "stdout",
     "output_type": "stream",
     "text": [
      "Round: 1\n",
      "Player One:  [Card(Spades, Five)]\n",
      "Player Two:  [Card(Spades, Ten)]\n",
      "Round: 2\n",
      "Player One:  [Card(Clubs, Two)]\n",
      "Player Two:  [Card(Clubs, Four)]\n",
      "Round: 3\n",
      "Player One:  [Card(Hearts, Four)]\n",
      "Player Two:  [Card(Diamonds, Four)]\n",
      "WAR!\n",
      "Player One:  [Card(Hearts, Four), Card(Hearts, Nine), Card(Spades, King), Card(Clubs, Seven), Card(Diamonds, Three), Card(Clubs, Eight)]\n",
      "Player Two:  [Card(Diamonds, Four), Card(Clubs, Jack), Card(Diamonds, Five), Card(Clubs, Nine), Card(Clubs, King), Card(Spades, Seven)]\n",
      "Round: 4\n",
      "Player One:  [Card(Diamonds, Two)]\n",
      "Player Two:  [Card(Diamonds, Eight)]\n",
      "Round: 5\n",
      "Player One:  [Card(Hearts, Queen)]\n",
      "Player Two:  [Card(Clubs, Five)]\n",
      "Round: 6\n",
      "Player One:  [Card(Spades, Ace)]\n",
      "Player Two:  [Card(Spades, Jack)]\n",
      "Round: 7\n",
      "Player One:  [Card(Hearts, Seven)]\n",
      "Player Two:  [Card(Clubs, Queen)]\n",
      "Round: 8\n",
      "Player One:  [Card(Spades, Nine)]\n",
      "Player Two:  [Card(Spades, Eight)]\n",
      "Round: 9\n",
      "Player One:  [Card(Spades, Three)]\n",
      "Player Two:  [Card(Hearts, Jack)]\n",
      "Round: 10\n",
      "Player One:  [Card(Clubs, Ten)]\n",
      "Player Two:  [Card(Hearts, King)]\n",
      "Round: 11\n",
      "Player One:  [Card(Hearts, Two)]\n",
      "Player Two:  [Card(Hearts, Six)]\n",
      "Round: 12\n",
      "Player One:  [Card(Hearts, Eight)]\n",
      "Player Two:  [Card(Diamonds, Nine)]\n",
      "Round: 13\n",
      "Player One:  [Card(Clubs, Three)]\n",
      "Player Two:  [Card(Hearts, Three)]\n",
      "WAR!\n",
      "Player One:  [Card(Clubs, Three), Card(Diamonds, Queen), Card(Diamonds, Ace), Card(Hearts, Ten), Card(Clubs, Ace), Card(Spades, Queen)]\n",
      "Player Two:  [Card(Hearts, Three), Card(Spades, Two), Card(Hearts, Five), Card(Diamonds, Ten), Card(Hearts, Ace), Card(Diamonds, Seven)]\n",
      "Round: 14\n",
      "Player One:  [Card(Diamonds, King)]\n",
      "Player Two:  [Card(Diamonds, Jack)]\n",
      "Round: 15\n",
      "Player One:  [Card(Diamonds, Six)]\n",
      "Player Two:  [Card(Clubs, Six)]\n",
      "WAR!\n",
      "Player One:  [Card(Diamonds, Six), Card(Spades, Four), Card(Hearts, Four), Card(Hearts, Nine), Card(Spades, King), Card(Clubs, Seven)]\n",
      "Player Two:  [Card(Clubs, Six), Card(Spades, Six), Card(Spades, Ten), Card(Spades, Five), Card(Clubs, Four), Card(Clubs, Two)]\n",
      "Round: 16\n",
      "Player One:  [Card(Diamonds, Three)]\n",
      "Player Two:  [Card(Diamonds, Eight)]\n",
      "Round: 17\n",
      "Player One:  [Card(Clubs, Eight)]\n",
      "Player Two:  [Card(Diamonds, Two)]\n",
      "Round: 18\n",
      "Player One:  [Card(Diamonds, Four)]\n",
      "Player Two:  [Card(Clubs, Queen)]\n",
      "Round: 19\n",
      "Player One:  [Card(Clubs, Jack)]\n",
      "Player Two:  [Card(Hearts, Seven)]\n",
      "Round: 20\n",
      "Player One:  [Card(Diamonds, Five)]\n",
      "Player Two:  [Card(Hearts, Jack)]\n",
      "Round: 21\n",
      "Player One:  [Card(Clubs, Nine)]\n",
      "Player Two:  [Card(Spades, Three)]\n",
      "Round: 22\n",
      "Player One:  [Card(Clubs, King)]\n",
      "Player Two:  [Card(Hearts, King)]\n",
      "WAR!\n",
      "Player One:  [Card(Clubs, King), Card(Spades, Seven), Card(Hearts, Queen), Card(Clubs, Five), Card(Spades, Ace), Card(Spades, Jack)]\n",
      "Player Two:  [Card(Hearts, King), Card(Clubs, Ten), Card(Hearts, Six), Card(Hearts, Two), Card(Diamonds, Nine), Card(Hearts, Eight)]\n",
      "Round: 23\n",
      "Player One:  [Card(Spades, Nine)]\n",
      "Player Two:  [Card(Diamonds, Eight)]\n",
      "Round: 24\n",
      "Player One:  [Card(Spades, Eight)]\n",
      "Player Two:  [Card(Diamonds, Three)]\n",
      "Round: 25\n",
      "Player One:  [Card(Clubs, Three)]\n",
      "Player Two:  [Card(Clubs, Queen)]\n",
      "Round: 26\n",
      "Player One:  [Card(Diamonds, Queen)]\n",
      "Player Two:  [Card(Diamonds, Four)]\n",
      "Round: 27\n",
      "Player One:  [Card(Diamonds, Ace)]\n",
      "Player Two:  [Card(Hearts, Jack)]\n",
      "Round: 28\n",
      "Player One:  [Card(Hearts, Ten)]\n",
      "Player Two:  [Card(Diamonds, Five)]\n",
      "Round: 29\n",
      "Player One:  [Card(Clubs, Ace)]\n",
      "Player Two:  [Card(Clubs, Queen)]\n",
      "Round: 30\n",
      "Player One:  [Card(Spades, Queen)]\n",
      "Player Two:  [Card(Clubs, Three)]\n",
      "Round: 31\n",
      "Player Two is out of cards. Player One wins\n"
     ]
    }
   ],
   "source": [
    "game_on = True\n",
    "round_num = 0\n",
    "additional_cards = 5\n",
    "while game_on:\n",
    "    round_num += 1\n",
    "    print(f\"Round: {round_num}\")\n",
    "    \n",
    "    if player_one.cards_left() == 0:\n",
    "        print(f\"Player {player_one.name} is out of cards. Player {player_two.name} wins\")\n",
    "        game_on = False\n",
    "        break\n",
    "    if player_two.cards_left() == 0:\n",
    "        print(f\"Player {player_two.name} is out of cards. Player {player_one.name} wins\")\n",
    "        game_on = False\n",
    "        break\n",
    "    \n",
    "    # Start new round\n",
    "    player_one_cards = [player_one.play_card()]\n",
    "    player_two_cards = [player_two.play_card()]\n",
    "\n",
    "    at_war = True\n",
    "    while at_war:\n",
    "        print(f\"Player {player_one.name}: \", player_one_cards)\n",
    "        print(f\"Player {player_two.name}: \", player_two_cards)\n",
    "        if player_one_cards[-1] > player_two_cards[-1]:\n",
    "            player_one.add_cards(player_one_cards, player_two_cards)\n",
    "            at_war = False\n",
    "        elif player_one_cards[-1] < player_two_cards[-1]:\n",
    "            player_two.add_cards(player_two_cards, player_one_cards)\n",
    "            at_war = False\n",
    "        else:\n",
    "            print(\"WAR!\")\n",
    "            if player_one.cards_left() < additional_cards:\n",
    "                print(f\"Player {player_one.name} unable to play. Player {player_two.name} wins!\")\n",
    "                game_on = False\n",
    "                break\n",
    "            elif player_two.cards_left() < additional_cards:\n",
    "                print(f\"Player {player_two.name} unable to play. Player {player_one.name} wins!\")\n",
    "                game_on = False\n",
    "                break\n",
    "            else:\n",
    "                for num in range(additional_cards):\n",
    "                    player_one_cards.append(player_one.play_card())\n",
    "                    player_two_cards.append(player_two.play_card())\n"
   ]
  },
  {
   "cell_type": "code",
   "execution_count": null,
   "id": "48e3af67",
   "metadata": {},
   "outputs": [],
   "source": []
  }
 ],
 "metadata": {
  "kernelspec": {
   "display_name": "Python 3 (ipykernel)",
   "language": "python",
   "name": "python3"
  },
  "language_info": {
   "codemirror_mode": {
    "name": "ipython",
    "version": 3
   },
   "file_extension": ".py",
   "mimetype": "text/x-python",
   "name": "python",
   "nbconvert_exporter": "python",
   "pygments_lexer": "ipython3",
   "version": "3.9.7"
  }
 },
 "nbformat": 4,
 "nbformat_minor": 5
}